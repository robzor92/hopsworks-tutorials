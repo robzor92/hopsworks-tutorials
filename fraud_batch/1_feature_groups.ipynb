{
 "cells": [
  {
   "cell_type": "markdown",
   "id": "71cbe253",
   "metadata": {},
   "source": [
    "# <span style=\"font-width:bold; font-size: 3rem; color:#1EB182;\"><img src=\"images/icon102.png\" width=\"38px\"></img> **Hopsworks Feature Store** </span><span style=\"font-width:bold; font-size: 3rem; color:#333;\">- Part 01: Load, Engineer & Connect</span>\n",
    "\n",
    "<span style=\"font-width:bold; font-size: 1.4rem;\"> This is the first part of the quick start series of tutorials about Hopsworks Feature Store. As part of this first module, we will work with data related to credit card transactions. \n",
    "The objective of this tutorial is to demonstrate how to work with the **Hopworks Feature Store**  for batch data with a goal of training and deploying a model that can predict fraudulent transactions.</span>\n",
    "\n",
    "## **🗒️ This notebook is divided in 3 sections:** \n",
    "1. Loading the data and feature engineeing,\n",
    "2. Connect to the Hopsworks feature store,\n",
    "3. Create feature groups and upload them to the feature store.\n",
    "\n",
    "![tutorial-flow](images/01_featuregroups.png)\n",
    "\n",
    "First of all we will load the data and do some feature engineering on it."
   ]
  },
  {
   "cell_type": "markdown",
   "id": "b6c79945",
   "metadata": {},
   "source": [
    "## <span style=\"color:#ff5f27;\"> 💽 Loading the Data </span>\n",
    "\n",
    "The data we will use comes from three different CSV files:\n",
    "\n",
    "- `credit_cards.csv`: credit card information such as expiration date and provider.\n",
    "- `transactions.csv`: transaction information such as timestamp, location, and the amount. Importantly, the binary `fraud_label` variable tells us whether a transaction was fraudulent or not.\n",
    "- `profiles.csv`: credit card user information such as birthdate and city of residence.\n",
    "\n",
    "We can conceptualize these CSV files as originating from separate data sources.\n",
    "**All three files have a credit card number column `cc_num` in common, which we can use for joins.**\n",
    "\n",
    "Let's go ahead and load the data."
   ]
  },
  {
   "cell_type": "code",
   "execution_count": 35,
   "id": "4b07dbe6",
   "metadata": {},
   "outputs": [
    {
     "data": {
      "text/html": [
       "<div>\n",
       "<style scoped>\n",
       "    .dataframe tbody tr th:only-of-type {\n",
       "        vertical-align: middle;\n",
       "    }\n",
       "\n",
       "    .dataframe tbody tr th {\n",
       "        vertical-align: top;\n",
       "    }\n",
       "\n",
       "    .dataframe thead th {\n",
       "        text-align: right;\n",
       "    }\n",
       "</style>\n",
       "<table border=\"1\" class=\"dataframe\">\n",
       "  <thead>\n",
       "    <tr style=\"text-align: right;\">\n",
       "      <th></th>\n",
       "      <th>cc_num</th>\n",
       "      <th>provider</th>\n",
       "      <th>expires</th>\n",
       "    </tr>\n",
       "  </thead>\n",
       "  <tbody>\n",
       "    <tr>\n",
       "      <th>0</th>\n",
       "      <td>4796807885357879</td>\n",
       "      <td>visa</td>\n",
       "      <td>05/23</td>\n",
       "    </tr>\n",
       "    <tr>\n",
       "      <th>1</th>\n",
       "      <td>4529266636192966</td>\n",
       "      <td>visa</td>\n",
       "      <td>03/22</td>\n",
       "    </tr>\n",
       "    <tr>\n",
       "      <th>2</th>\n",
       "      <td>4922690008243953</td>\n",
       "      <td>visa</td>\n",
       "      <td>02/27</td>\n",
       "    </tr>\n",
       "  </tbody>\n",
       "</table>\n",
       "</div>"
      ],
      "text/plain": [
       "             cc_num provider expires\n",
       "0  4796807885357879     visa   05/23\n",
       "1  4529266636192966     visa   03/22\n",
       "2  4922690008243953     visa   02/27"
      ]
     },
     "execution_count": 35,
     "metadata": {},
     "output_type": "execute_result"
    }
   ],
   "source": [
    "import pandas as pd\n",
    "credit_cards_df = pd.read_csv(\"https://repo.hops.works/dev/davit/card_fraud_online/credit_cards.csv\")\n",
    "credit_cards_df.head(3)"
   ]
  },
  {
   "cell_type": "code",
   "execution_count": 36,
   "id": "3b624b48",
   "metadata": {},
   "outputs": [
    {
     "data": {
      "text/html": [
       "<div>\n",
       "<style scoped>\n",
       "    .dataframe tbody tr th:only-of-type {\n",
       "        vertical-align: middle;\n",
       "    }\n",
       "\n",
       "    .dataframe tbody tr th {\n",
       "        vertical-align: top;\n",
       "    }\n",
       "\n",
       "    .dataframe thead th {\n",
       "        text-align: right;\n",
       "    }\n",
       "</style>\n",
       "<table border=\"1\" class=\"dataframe\">\n",
       "  <thead>\n",
       "    <tr style=\"text-align: right;\">\n",
       "      <th></th>\n",
       "      <th>name</th>\n",
       "      <th>sex</th>\n",
       "      <th>mail</th>\n",
       "      <th>birthdate</th>\n",
       "      <th>City</th>\n",
       "      <th>Country</th>\n",
       "      <th>cc_num</th>\n",
       "    </tr>\n",
       "  </thead>\n",
       "  <tbody>\n",
       "    <tr>\n",
       "      <th>0</th>\n",
       "      <td>Tonya Gregory</td>\n",
       "      <td>F</td>\n",
       "      <td>sandratorres@hotmail.com</td>\n",
       "      <td>1976-01-16</td>\n",
       "      <td>Far Rockaway</td>\n",
       "      <td>US</td>\n",
       "      <td>4796807885357879</td>\n",
       "    </tr>\n",
       "    <tr>\n",
       "      <th>1</th>\n",
       "      <td>Lisa Gilbert</td>\n",
       "      <td>F</td>\n",
       "      <td>michael53@yahoo.com</td>\n",
       "      <td>1986-09-30</td>\n",
       "      <td>Encinitas</td>\n",
       "      <td>US</td>\n",
       "      <td>4529266636192966</td>\n",
       "    </tr>\n",
       "    <tr>\n",
       "      <th>2</th>\n",
       "      <td>Carolyn Meyer</td>\n",
       "      <td>F</td>\n",
       "      <td>anthony47@yahoo.com</td>\n",
       "      <td>2001-07-13</td>\n",
       "      <td>Canton</td>\n",
       "      <td>US</td>\n",
       "      <td>4922690008243953</td>\n",
       "    </tr>\n",
       "  </tbody>\n",
       "</table>\n",
       "</div>"
      ],
      "text/plain": [
       "            name sex                      mail  birthdate          City  \\\n",
       "0  Tonya Gregory   F  sandratorres@hotmail.com 1976-01-16  Far Rockaway   \n",
       "1   Lisa Gilbert   F       michael53@yahoo.com 1986-09-30     Encinitas   \n",
       "2  Carolyn Meyer   F       anthony47@yahoo.com 2001-07-13        Canton   \n",
       "\n",
       "  Country            cc_num  \n",
       "0      US  4796807885357879  \n",
       "1      US  4529266636192966  \n",
       "2      US  4922690008243953  "
      ]
     },
     "execution_count": 36,
     "metadata": {},
     "output_type": "execute_result"
    }
   ],
   "source": [
    "profiles_df = pd.read_csv(\"https://repo.hops.works/dev/davit/card_fraud_online/profiles.csv\", parse_dates=[\"birthdate\"])\n",
    "profiles_df.head(3)"
   ]
  },
  {
   "cell_type": "code",
   "execution_count": 37,
   "id": "dae658eb",
   "metadata": {},
   "outputs": [
    {
     "data": {
      "text/html": [
       "<div>\n",
       "<style scoped>\n",
       "    .dataframe tbody tr th:only-of-type {\n",
       "        vertical-align: middle;\n",
       "    }\n",
       "\n",
       "    .dataframe tbody tr th {\n",
       "        vertical-align: top;\n",
       "    }\n",
       "\n",
       "    .dataframe thead th {\n",
       "        text-align: right;\n",
       "    }\n",
       "</style>\n",
       "<table border=\"1\" class=\"dataframe\">\n",
       "  <thead>\n",
       "    <tr style=\"text-align: right;\">\n",
       "      <th></th>\n",
       "      <th>tid</th>\n",
       "      <th>datetime</th>\n",
       "      <th>cc_num</th>\n",
       "      <th>category</th>\n",
       "      <th>amount</th>\n",
       "      <th>latitude</th>\n",
       "      <th>longitude</th>\n",
       "      <th>city</th>\n",
       "      <th>country</th>\n",
       "      <th>fraud_label</th>\n",
       "    </tr>\n",
       "  </thead>\n",
       "  <tbody>\n",
       "    <tr>\n",
       "      <th>0</th>\n",
       "      <td>11df919988c134d97bbff2678eb68e22</td>\n",
       "      <td>2022-01-01 00:00:24</td>\n",
       "      <td>4473593503484549</td>\n",
       "      <td>Health/Beauty</td>\n",
       "      <td>62.95</td>\n",
       "      <td>42.30865</td>\n",
       "      <td>-83.48216</td>\n",
       "      <td>Canton</td>\n",
       "      <td>US</td>\n",
       "      <td>0</td>\n",
       "    </tr>\n",
       "    <tr>\n",
       "      <th>1</th>\n",
       "      <td>dd0b2d6d4266ccd3bf05bc2ea91cf180</td>\n",
       "      <td>2022-01-01 00:00:56</td>\n",
       "      <td>4272465718946864</td>\n",
       "      <td>Grocery</td>\n",
       "      <td>85.45</td>\n",
       "      <td>33.52253</td>\n",
       "      <td>-117.70755</td>\n",
       "      <td>Laguna Niguel</td>\n",
       "      <td>US</td>\n",
       "      <td>0</td>\n",
       "    </tr>\n",
       "    <tr>\n",
       "      <th>2</th>\n",
       "      <td>e627f5d9a9739833bd52d2da51761fc3</td>\n",
       "      <td>2022-01-01 00:02:32</td>\n",
       "      <td>4104216579248948</td>\n",
       "      <td>Domestic Transport</td>\n",
       "      <td>21.63</td>\n",
       "      <td>37.60876</td>\n",
       "      <td>-77.37331</td>\n",
       "      <td>Mechanicsville</td>\n",
       "      <td>US</td>\n",
       "      <td>0</td>\n",
       "    </tr>\n",
       "  </tbody>\n",
       "</table>\n",
       "</div>"
      ],
      "text/plain": [
       "                                tid            datetime            cc_num  \\\n",
       "0  11df919988c134d97bbff2678eb68e22 2022-01-01 00:00:24  4473593503484549   \n",
       "1  dd0b2d6d4266ccd3bf05bc2ea91cf180 2022-01-01 00:00:56  4272465718946864   \n",
       "2  e627f5d9a9739833bd52d2da51761fc3 2022-01-01 00:02:32  4104216579248948   \n",
       "\n",
       "             category  amount  latitude  longitude            city country  \\\n",
       "0       Health/Beauty   62.95  42.30865  -83.48216          Canton      US   \n",
       "1             Grocery   85.45  33.52253 -117.70755   Laguna Niguel      US   \n",
       "2  Domestic Transport   21.63  37.60876  -77.37331  Mechanicsville      US   \n",
       "\n",
       "   fraud_label  \n",
       "0            0  \n",
       "1            0  \n",
       "2            0  "
      ]
     },
     "execution_count": 37,
     "metadata": {},
     "output_type": "execute_result"
    }
   ],
   "source": [
    "trans_df = pd.read_csv(\"https://repo.hops.works/dev/davit/card_fraud_online/transactions.csv\", parse_dates=[\"datetime\"])\n",
    "trans_df.head(3)"
   ]
  },
  {
   "cell_type": "code",
   "execution_count": 38,
   "id": "2e32ded2",
   "metadata": {},
   "outputs": [],
   "source": [
    "trans_df = trans_df[trans_df.category == \"Cash Withdrawal\"].reset_index(level=0, drop=True)\n",
    "trans_df[\"country\"] = trans_df[\"country\"].fillna(\"US\")\n",
    "profiles_df = profiles_df[profiles_df.cc_num.isin(trans_df.cc_num.unique())].reset_index(level=0, drop=True)\n",
    "credit_cards_df = credit_cards_df[credit_cards_df.cc_num.isin(trans_df.cc_num.unique())].reset_index(level=0, drop=True)"
   ]
  },
  {
   "cell_type": "code",
   "execution_count": 39,
   "id": "f6c1b2c0",
   "metadata": {},
   "outputs": [
    {
     "data": {
      "text/html": [
       "<div>\n",
       "<style scoped>\n",
       "    .dataframe tbody tr th:only-of-type {\n",
       "        vertical-align: middle;\n",
       "    }\n",
       "\n",
       "    .dataframe tbody tr th {\n",
       "        vertical-align: top;\n",
       "    }\n",
       "\n",
       "    .dataframe thead th {\n",
       "        text-align: right;\n",
       "    }\n",
       "</style>\n",
       "<table border=\"1\" class=\"dataframe\">\n",
       "  <thead>\n",
       "    <tr style=\"text-align: right;\">\n",
       "      <th></th>\n",
       "      <th>tid</th>\n",
       "      <th>datetime</th>\n",
       "      <th>cc_num</th>\n",
       "      <th>category</th>\n",
       "      <th>amount</th>\n",
       "      <th>latitude</th>\n",
       "      <th>longitude</th>\n",
       "      <th>city</th>\n",
       "      <th>country</th>\n",
       "      <th>fraud_label</th>\n",
       "    </tr>\n",
       "  </thead>\n",
       "  <tbody>\n",
       "    <tr>\n",
       "      <th>0</th>\n",
       "      <td>ada19b194d8b93d502f16309c7275e36</td>\n",
       "      <td>2022-02-20 05:14:58</td>\n",
       "      <td>4148855537936983</td>\n",
       "      <td>Cash Withdrawal</td>\n",
       "      <td>2845.89</td>\n",
       "      <td>27.107439</td>\n",
       "      <td>-82.462260</td>\n",
       "      <td>Venice</td>\n",
       "      <td>US</td>\n",
       "      <td>0</td>\n",
       "    </tr>\n",
       "    <tr>\n",
       "      <th>1</th>\n",
       "      <td>69b38c908b93b58b78250f4d66e8a9ec</td>\n",
       "      <td>2022-02-20 17:14:58</td>\n",
       "      <td>4148855537936983</td>\n",
       "      <td>Cash Withdrawal</td>\n",
       "      <td>268.28</td>\n",
       "      <td>27.105581</td>\n",
       "      <td>-82.454755</td>\n",
       "      <td>Venice</td>\n",
       "      <td>US</td>\n",
       "      <td>0</td>\n",
       "    </tr>\n",
       "    <tr>\n",
       "      <th>2</th>\n",
       "      <td>7406892d42247a0f849098c711787144</td>\n",
       "      <td>2022-02-21 05:14:58</td>\n",
       "      <td>4148855537936983</td>\n",
       "      <td>Cash Withdrawal</td>\n",
       "      <td>36.63</td>\n",
       "      <td>27.102719</td>\n",
       "      <td>-82.448723</td>\n",
       "      <td>Venice</td>\n",
       "      <td>US</td>\n",
       "      <td>0</td>\n",
       "    </tr>\n",
       "    <tr>\n",
       "      <th>3</th>\n",
       "      <td>cf55a58e38c93fbfba37f2f636b63dfc</td>\n",
       "      <td>2022-01-16 17:03:04</td>\n",
       "      <td>4148855537936983</td>\n",
       "      <td>Cash Withdrawal</td>\n",
       "      <td>176.23</td>\n",
       "      <td>38.961261</td>\n",
       "      <td>-76.986751</td>\n",
       "      <td>Chillum</td>\n",
       "      <td>US</td>\n",
       "      <td>0</td>\n",
       "    </tr>\n",
       "    <tr>\n",
       "      <th>4</th>\n",
       "      <td>ee28f7df1237e124a06537eb4fdfc89d</td>\n",
       "      <td>2022-01-17 21:03:04</td>\n",
       "      <td>4148855537936983</td>\n",
       "      <td>Cash Withdrawal</td>\n",
       "      <td>27.61</td>\n",
       "      <td>38.952633</td>\n",
       "      <td>-76.989699</td>\n",
       "      <td>Chillum</td>\n",
       "      <td>US</td>\n",
       "      <td>0</td>\n",
       "    </tr>\n",
       "    <tr>\n",
       "      <th>...</th>\n",
       "      <td>...</td>\n",
       "      <td>...</td>\n",
       "      <td>...</td>\n",
       "      <td>...</td>\n",
       "      <td>...</td>\n",
       "      <td>...</td>\n",
       "      <td>...</td>\n",
       "      <td>...</td>\n",
       "      <td>...</td>\n",
       "      <td>...</td>\n",
       "    </tr>\n",
       "    <tr>\n",
       "      <th>365115</th>\n",
       "      <td>50c55d97716ab5f9c435d8bd46a717a7</td>\n",
       "      <td>2022-03-09 16:39:23</td>\n",
       "      <td>4904072446387894</td>\n",
       "      <td>Cash Withdrawal</td>\n",
       "      <td>411.90</td>\n",
       "      <td>30.158790</td>\n",
       "      <td>-96.412289</td>\n",
       "      <td>Brenham</td>\n",
       "      <td>US</td>\n",
       "      <td>0</td>\n",
       "    </tr>\n",
       "    <tr>\n",
       "      <th>365116</th>\n",
       "      <td>1c60cb8676fe60151a0a9168dceaf80e</td>\n",
       "      <td>2022-03-11 17:39:23</td>\n",
       "      <td>4904072446387894</td>\n",
       "      <td>Cash Withdrawal</td>\n",
       "      <td>610.58</td>\n",
       "      <td>30.167319</td>\n",
       "      <td>-96.408537</td>\n",
       "      <td>Brenham</td>\n",
       "      <td>US</td>\n",
       "      <td>0</td>\n",
       "    </tr>\n",
       "    <tr>\n",
       "      <th>365117</th>\n",
       "      <td>9582563f06e0e46a6b6e8bd961360f0b</td>\n",
       "      <td>2022-03-13 18:39:23</td>\n",
       "      <td>4904072446387894</td>\n",
       "      <td>Cash Withdrawal</td>\n",
       "      <td>9246.22</td>\n",
       "      <td>30.170026</td>\n",
       "      <td>-96.402064</td>\n",
       "      <td>Brenham</td>\n",
       "      <td>US</td>\n",
       "      <td>0</td>\n",
       "    </tr>\n",
       "    <tr>\n",
       "      <th>365118</th>\n",
       "      <td>bc380ed57c86a3f2e72f845bcd192388</td>\n",
       "      <td>2022-03-15 19:39:23</td>\n",
       "      <td>4904072446387894</td>\n",
       "      <td>Cash Withdrawal</td>\n",
       "      <td>252.55</td>\n",
       "      <td>30.178488</td>\n",
       "      <td>-96.403905</td>\n",
       "      <td>Brenham</td>\n",
       "      <td>US</td>\n",
       "      <td>0</td>\n",
       "    </tr>\n",
       "    <tr>\n",
       "      <th>365119</th>\n",
       "      <td>a249ba33a9ed3a422fa27a37d7651de1</td>\n",
       "      <td>2022-03-17 20:39:23</td>\n",
       "      <td>4904072446387894</td>\n",
       "      <td>Cash Withdrawal</td>\n",
       "      <td>926.72</td>\n",
       "      <td>30.181393</td>\n",
       "      <td>-96.400505</td>\n",
       "      <td>Brenham</td>\n",
       "      <td>US</td>\n",
       "      <td>0</td>\n",
       "    </tr>\n",
       "  </tbody>\n",
       "</table>\n",
       "<p>365120 rows × 10 columns</p>\n",
       "</div>"
      ],
      "text/plain": [
       "                                     tid            datetime  \\\n",
       "0       ada19b194d8b93d502f16309c7275e36 2022-02-20 05:14:58   \n",
       "1       69b38c908b93b58b78250f4d66e8a9ec 2022-02-20 17:14:58   \n",
       "2       7406892d42247a0f849098c711787144 2022-02-21 05:14:58   \n",
       "3       cf55a58e38c93fbfba37f2f636b63dfc 2022-01-16 17:03:04   \n",
       "4       ee28f7df1237e124a06537eb4fdfc89d 2022-01-17 21:03:04   \n",
       "...                                  ...                 ...   \n",
       "365115  50c55d97716ab5f9c435d8bd46a717a7 2022-03-09 16:39:23   \n",
       "365116  1c60cb8676fe60151a0a9168dceaf80e 2022-03-11 17:39:23   \n",
       "365117  9582563f06e0e46a6b6e8bd961360f0b 2022-03-13 18:39:23   \n",
       "365118  bc380ed57c86a3f2e72f845bcd192388 2022-03-15 19:39:23   \n",
       "365119  a249ba33a9ed3a422fa27a37d7651de1 2022-03-17 20:39:23   \n",
       "\n",
       "                  cc_num         category   amount   latitude  longitude  \\\n",
       "0       4148855537936983  Cash Withdrawal  2845.89  27.107439 -82.462260   \n",
       "1       4148855537936983  Cash Withdrawal   268.28  27.105581 -82.454755   \n",
       "2       4148855537936983  Cash Withdrawal    36.63  27.102719 -82.448723   \n",
       "3       4148855537936983  Cash Withdrawal   176.23  38.961261 -76.986751   \n",
       "4       4148855537936983  Cash Withdrawal    27.61  38.952633 -76.989699   \n",
       "...                  ...              ...      ...        ...        ...   \n",
       "365115  4904072446387894  Cash Withdrawal   411.90  30.158790 -96.412289   \n",
       "365116  4904072446387894  Cash Withdrawal   610.58  30.167319 -96.408537   \n",
       "365117  4904072446387894  Cash Withdrawal  9246.22  30.170026 -96.402064   \n",
       "365118  4904072446387894  Cash Withdrawal   252.55  30.178488 -96.403905   \n",
       "365119  4904072446387894  Cash Withdrawal   926.72  30.181393 -96.400505   \n",
       "\n",
       "           city country  fraud_label  \n",
       "0        Venice      US            0  \n",
       "1        Venice      US            0  \n",
       "2        Venice      US            0  \n",
       "3       Chillum      US            0  \n",
       "4       Chillum      US            0  \n",
       "...         ...     ...          ...  \n",
       "365115  Brenham      US            0  \n",
       "365116  Brenham      US            0  \n",
       "365117  Brenham      US            0  \n",
       "365118  Brenham      US            0  \n",
       "365119  Brenham      US            0  \n",
       "\n",
       "[365120 rows x 10 columns]"
      ]
     },
     "execution_count": 39,
     "metadata": {},
     "output_type": "execute_result"
    }
   ],
   "source": [
    "trans_df"
   ]
  },
  {
   "cell_type": "markdown",
   "id": "a2003ade",
   "metadata": {},
   "source": [
    "## <span style=\"color:#ff5f27;\"> 🛠️ Feature Engineering </span>\n",
    "\n",
    "Fraudulent transactions can differ from regular ones in many different ways. Typical red flags would for instance be a large transaction volume/frequency in the span of a few hours. It could also be the case that elderly people in particular are targeted by fraudsters. To facilitate model learning we will create additional features based on these patterns. In particular, we will create two types of features:\n",
    "1. **Features that aggregate data from different data sources**. This could for instance be the age of a customer at the time of a transaction, which combines the `birthdate` feature from `profiles.csv` with the `datetime` feature from `transactions.csv`.\n",
    "2. **Features that aggregate data from multiple time steps**. An example of this could be the transaction frequency of a credit card in the span of a few hours, which is computed using a window function.\n",
    "\n",
    "Let's start with the first category."
   ]
  },
  {
   "cell_type": "code",
   "execution_count": 40,
   "id": "347022b4",
   "metadata": {},
   "outputs": [],
   "source": [
    "import numpy as np"
   ]
  },
  {
   "cell_type": "code",
   "execution_count": 41,
   "id": "1d99bb92",
   "metadata": {},
   "outputs": [
    {
     "data": {
      "text/html": [
       "<div>\n",
       "<style scoped>\n",
       "    .dataframe tbody tr th:only-of-type {\n",
       "        vertical-align: middle;\n",
       "    }\n",
       "\n",
       "    .dataframe tbody tr th {\n",
       "        vertical-align: top;\n",
       "    }\n",
       "\n",
       "    .dataframe thead th {\n",
       "        text-align: right;\n",
       "    }\n",
       "</style>\n",
       "<table border=\"1\" class=\"dataframe\">\n",
       "  <thead>\n",
       "    <tr style=\"text-align: right;\">\n",
       "      <th></th>\n",
       "      <th>age_at_transaction</th>\n",
       "      <th>days_until_card_expires</th>\n",
       "    </tr>\n",
       "  </thead>\n",
       "  <tbody>\n",
       "    <tr>\n",
       "      <th>0</th>\n",
       "      <td>57.691037</td>\n",
       "      <td>434.781273</td>\n",
       "    </tr>\n",
       "    <tr>\n",
       "      <th>1</th>\n",
       "      <td>57.692406</td>\n",
       "      <td>434.281273</td>\n",
       "    </tr>\n",
       "    <tr>\n",
       "      <th>2</th>\n",
       "      <td>57.693775</td>\n",
       "      <td>433.781273</td>\n",
       "    </tr>\n",
       "    <tr>\n",
       "      <th>3</th>\n",
       "      <td>57.596557</td>\n",
       "      <td>469.289537</td>\n",
       "    </tr>\n",
       "    <tr>\n",
       "      <th>4</th>\n",
       "      <td>57.599751</td>\n",
       "      <td>468.122870</td>\n",
       "    </tr>\n",
       "  </tbody>\n",
       "</table>\n",
       "</div>"
      ],
      "text/plain": [
       "   age_at_transaction  days_until_card_expires\n",
       "0           57.691037               434.781273\n",
       "1           57.692406               434.281273\n",
       "2           57.693775               433.781273\n",
       "3           57.596557               469.289537\n",
       "4           57.599751               468.122870"
      ]
     },
     "execution_count": 41,
     "metadata": {},
     "output_type": "execute_result"
    }
   ],
   "source": [
    "# Compute age at transaction.\n",
    "age_df = trans_df.merge(profiles_df, on=\"cc_num\", how=\"left\")\n",
    "trans_df[\"age_at_transaction\"] = (age_df[\"datetime\"] - age_df[\"birthdate\"]) / np.timedelta64(1, \"Y\")\n",
    "\n",
    "# Compute days until card expires.\n",
    "card_expiry_df = trans_df.merge(credit_cards_df, on=\"cc_num\", how=\"left\")\n",
    "card_expiry_df[\"expires\"] = pd.to_datetime(card_expiry_df[\"expires\"], format=\"%m/%y\")\n",
    "trans_df[\"days_until_card_expires\"] = (card_expiry_df[\"expires\"] - card_expiry_df[\"datetime\"]) / np.timedelta64(1, \"D\")\n",
    "\n",
    "trans_df[[\"age_at_transaction\", \"days_until_card_expires\"]].head()"
   ]
  },
  {
   "cell_type": "markdown",
   "id": "c87866bf",
   "metadata": {},
   "source": [
    "Next, we create features that for each credit card aggregate data from multiple time steps.\n",
    "\n",
    "We start by computing the distance between consecutive transactions, which we will call `loc_delta`.\n",
    "Here we use the [Haversine distance](https://scikit-learn.org/stable/modules/generated/sklearn.metrics.pairwise.haversine_distances.html?highlight=haversine#sklearn.metrics.pairwise.haversine_distances) to quantify the distance between two longitude and latitude coordinates."
   ]
  },
  {
   "cell_type": "code",
   "execution_count": 42,
   "id": "de9db552",
   "metadata": {},
   "outputs": [],
   "source": [
    "from math import radians\n",
    "\n",
    "# Do some simple preprocessing.\n",
    "trans_df.sort_values(\"datetime\", inplace=True)\n",
    "trans_df[[\"longitude\", \"latitude\"]] = trans_df[[\"longitude\", \"latitude\"]].applymap(radians)\n",
    "\n",
    "def haversine(long, lat):\n",
    "    \"\"\"Compute Haversine distance between each consecutive coordinate in (long, lat).\"\"\"\n",
    "\n",
    "    long_shifted = long.shift()\n",
    "    lat_shifted = lat.shift()\n",
    "    long_diff = long_shifted - long\n",
    "    lat_diff = lat_shifted - lat\n",
    "\n",
    "    a = np.sin(lat_diff/2.0)**2\n",
    "    b = np.cos(lat) * np.cos(lat_shifted) * np.sin(long_diff/2.0)**2\n",
    "    c = 2*np.arcsin(np.sqrt(a + b))\n",
    "\n",
    "    return c\n",
    "\n",
    "\n",
    "trans_df[\"loc_delta\"] = trans_df.groupby(\"cc_num\")\\\n",
    "    .apply(lambda x : haversine(x[\"longitude\"], x[\"latitude\"]))\\\n",
    "    .reset_index(level=0, drop=True)\\\n",
    "    .fillna(0)"
   ]
  },
  {
   "cell_type": "markdown",
   "id": "f779c7e5",
   "metadata": {},
   "source": [
    "Next we compute windowed aggregates. Here we will use 4-hour windows, but feel free to experiment with different window lengths by setting `window_len` below to a value of your choice."
   ]
  },
  {
   "cell_type": "code",
   "execution_count": 43,
   "id": "fd4aa8a3",
   "metadata": {},
   "outputs": [
    {
     "data": {
      "text/html": [
       "<div>\n",
       "<style scoped>\n",
       "    .dataframe tbody tr th:only-of-type {\n",
       "        vertical-align: middle;\n",
       "    }\n",
       "\n",
       "    .dataframe tbody tr th {\n",
       "        vertical-align: top;\n",
       "    }\n",
       "\n",
       "    .dataframe thead th {\n",
       "        text-align: right;\n",
       "    }\n",
       "</style>\n",
       "<table border=\"1\" class=\"dataframe\">\n",
       "  <thead>\n",
       "    <tr style=\"text-align: right;\">\n",
       "      <th></th>\n",
       "      <th>loc_delta_mavg</th>\n",
       "      <th>cc_num</th>\n",
       "      <th>datetime</th>\n",
       "    </tr>\n",
       "  </thead>\n",
       "  <tbody>\n",
       "    <tr>\n",
       "      <th>365115</th>\n",
       "      <td>0.361546</td>\n",
       "      <td>4904072446387894</td>\n",
       "      <td>2022-03-09 16:39:23</td>\n",
       "    </tr>\n",
       "    <tr>\n",
       "      <th>365116</th>\n",
       "      <td>0.469146</td>\n",
       "      <td>4904072446387894</td>\n",
       "      <td>2022-03-11 17:39:23</td>\n",
       "    </tr>\n",
       "    <tr>\n",
       "      <th>365117</th>\n",
       "      <td>0.000140</td>\n",
       "      <td>4904072446387894</td>\n",
       "      <td>2022-03-13 18:39:23</td>\n",
       "    </tr>\n",
       "    <tr>\n",
       "      <th>365118</th>\n",
       "      <td>0.144911</td>\n",
       "      <td>4904072446387894</td>\n",
       "      <td>2022-03-15 19:39:23</td>\n",
       "    </tr>\n",
       "    <tr>\n",
       "      <th>365119</th>\n",
       "      <td>0.443975</td>\n",
       "      <td>4904072446387894</td>\n",
       "      <td>2022-03-17 20:39:23</td>\n",
       "    </tr>\n",
       "  </tbody>\n",
       "</table>\n",
       "</div>"
      ],
      "text/plain": [
       "        loc_delta_mavg            cc_num            datetime\n",
       "365115        0.361546  4904072446387894 2022-03-09 16:39:23\n",
       "365116        0.469146  4904072446387894 2022-03-11 17:39:23\n",
       "365117        0.000140  4904072446387894 2022-03-13 18:39:23\n",
       "365118        0.144911  4904072446387894 2022-03-15 19:39:23\n",
       "365119        0.443975  4904072446387894 2022-03-17 20:39:23"
      ]
     },
     "execution_count": 43,
     "metadata": {},
     "output_type": "execute_result"
    }
   ],
   "source": [
    "window_len = \"4h\"\n",
    "# Moving average of location difference between consecutive transactions.\n",
    "cc_group = trans_df[[\"cc_num\", \"loc_delta\", \"datetime\"]].groupby(\"cc_num\").rolling(window_len, on=\"datetime\").mean()\n",
    "df_4h_loc_delta_mavg = pd.DataFrame(cc_group)\n",
    "df_4h_loc_delta_mavg.columns = [\"loc_delta_mavg\", \"datetime\"]\n",
    "df_4h_loc_delta_mavg = df_4h_loc_delta_mavg.reset_index(level=[\"cc_num\"])\n",
    "df_4h_loc_delta_mavg = df_4h_loc_delta_mavg.drop(columns=[\"cc_num\", \"datetime\"])\n",
    "df_4h_loc_delta_mavg = df_4h_loc_delta_mavg.sort_index()\n",
    "window_aggs_df = df_4h_loc_delta_mavg\n",
    "\n",
    "window_aggs_df = window_aggs_df.merge(trans_df[[\"cc_num\", \"datetime\"]].sort_index(),left_index=True, right_index=True)\n",
    "window_aggs_df.tail()"
   ]
  },
  {
   "cell_type": "markdown",
   "id": "f8eb2952",
   "metadata": {},
   "source": [
    "### Convert date time object to unix epoch in milliseconds"
   ]
  },
  {
   "cell_type": "code",
   "execution_count": 44,
   "id": "57af24d8",
   "metadata": {},
   "outputs": [],
   "source": [
    "trans_df.datetime = trans_df.datetime.values.astype(np.int64) // 10 ** 6\n",
    "window_aggs_df.datetime = window_aggs_df.datetime.values.astype(np.int64) // 10 ** 6"
   ]
  },
  {
   "cell_type": "markdown",
   "id": "ea8a173b",
   "metadata": {},
   "source": [
    "## <span style=\"color:#ff5f27;\"> 🪄 Creating Feature Groups </span>\n",
    "\n",
    "A [feature group](https://docs.hopsworks.ai/feature-store-api/latest/generated/feature_group/) can be seen as a collection of conceptually related features. In our case, we will create a feature group for the transaction data and a feature group for the windowed aggregations on the transaction data. Both will have `tid` as primary key, which will allow us to join them when creating a dataset in the next tutorial.\n",
    "\n",
    "Feature groups can also be used to define a namespace for features. For instance, in a real-life setting we would likely want to experiment with different window lengths. In that case, we can create feature groups with identical schema for each window length. \n",
    "\n",
    "Before we can create a feature group we need to connect to our feature store."
   ]
  },
  {
   "cell_type": "code",
   "execution_count": 45,
   "id": "fc0d289c",
   "metadata": {},
   "outputs": [
    {
     "name": "stdout",
     "output_type": "stream",
     "text": [
      "Connected. Call `.close()` to terminate connection gracefully.\n"
     ]
    }
   ],
   "source": [
    "import hsfs\n",
    "\n",
    "conn = hsfs.connection()\n",
    "fs = conn.get_feature_store()"
   ]
  },
  {
   "cell_type": "markdown",
   "id": "3d60c6a8",
   "metadata": {},
   "source": [
    "To create a feature group we need to give it a name and specify a primary key. It is also good to provide a description of the contents of the feature group and a version number, if it is not defined it will automatically be incremented to `1`."
   ]
  },
  {
   "cell_type": "code",
   "execution_count": 46,
   "id": "5e4d119d",
   "metadata": {},
   "outputs": [],
   "source": [
    "trans_fg = fs.create_feature_group(\n",
    "    name=\"transactions\",\n",
    "    version=\"1\",\n",
    "    description=\"Transaction data\",\n",
    "    primary_key=['cc_num'],\n",
    "    event_time=['datetime'],\n",
    "    online_enabled=True\n",
    ")\n"
   ]
  },
  {
   "cell_type": "markdown",
   "id": "9c4b4edd",
   "metadata": {},
   "source": [
    "Here we have also set `online_enabled=True`, which enables low latency access to the data. A full list of arguments can be found in the [documentation](https://docs.hopsworks.ai/feature-store-api/latest/generated/api/feature_store_api/#create_feature_group).\n",
    "\n",
    "At this point, we have only specified some metadata for the feature group. It does not store any data or even have a schema defined for the data. To make the feature group persistent we populate it with its associated data using the `save` function."
   ]
  },
  {
   "cell_type": "code",
   "execution_count": 48,
   "id": "18581b22",
   "metadata": {},
   "outputs": [
    {
     "name": "stdout",
     "output_type": "stream",
     "text": [
      "Feature Group created successfully, explore it at https://73bbb040-ed8b-11ec-a289-2979fdcaf1e8.cloud.hopsworks.ai/p/120/fs/68/fg/23\n",
      "Launching offline feature group backfill job...\n",
      "Backfill Job started successfully, you can follow the progress at https://73bbb040-ed8b-11ec-a289-2979fdcaf1e8.cloud.hopsworks.ai/p/120/jobs/named/transactions_1_offline_fg_backfill/executions\n"
     ]
    },
    {
     "data": {
      "text/plain": [
       "(<hsfs.core.job.Job at 0x7fc1dff4b910>, None)"
      ]
     },
     "execution_count": 48,
     "metadata": {},
     "output_type": "execute_result"
    }
   ],
   "source": [
    "trans_fg.save(trans_df)"
   ]
  },
  {
   "cell_type": "markdown",
   "id": "a4ba266c",
   "metadata": {},
   "source": [
    "We can move on and do the same thing for the feature group with our windows aggregation."
   ]
  },
  {
   "cell_type": "code",
   "execution_count": 49,
   "id": "198af366",
   "metadata": {},
   "outputs": [],
   "source": [
    "window_aggs_fg = fs.create_feature_group(\n",
    "    name=f\"transactions_{window_len}_aggs\",\n",
    "    description=f\"Aggregate transaction data over {window_len} windows.\",\n",
    "    primary_key=['cc_num'],\n",
    "    event_time=['datetime'],\n",
    "    online_enabled=True    \n",
    ")"
   ]
  },
  {
   "cell_type": "code",
   "execution_count": 50,
   "id": "352db4c1",
   "metadata": {},
   "outputs": [
    {
     "name": "stdout",
     "output_type": "stream",
     "text": [
      "Feature Group created successfully, explore it at https://73bbb040-ed8b-11ec-a289-2979fdcaf1e8.cloud.hopsworks.ai/p/120/fs/68/fg/24\n",
      "Launching offline feature group backfill job...\n",
      "Backfill Job started successfully, you can follow the progress at https://73bbb040-ed8b-11ec-a289-2979fdcaf1e8.cloud.hopsworks.ai/p/120/jobs/named/transactions_4h_aggs_1_offline_fg_backfill/executions\n"
     ]
    },
    {
     "name": "stderr",
     "output_type": "stream",
     "text": [
      "VersionWarning: No version provided for creating feature group `transactions_4h_aggs`, incremented version to `1`.\n"
     ]
    },
    {
     "data": {
      "text/plain": [
       "(<hsfs.core.job.Job at 0x7fc1fa3d0850>, None)"
      ]
     },
     "execution_count": 50,
     "metadata": {},
     "output_type": "execute_result"
    }
   ],
   "source": [
    "window_aggs_fg.save(window_aggs_df)"
   ]
  },
  {
   "cell_type": "markdown",
   "id": "c6274c8d",
   "metadata": {},
   "source": [
    "Both feature groups are now accessible and searchable in the UI"
   ]
  },
  {
   "cell_type": "markdown",
   "id": "dd02aef2",
   "metadata": {},
   "source": [
    "## <span style=\"color:#ff5f27;\">⏭️ **Next:** Part 02 </span>\n",
    "\n",
    "In the following notebook we will use our feature groups to create a dataset we can train a model on."
   ]
  },
  {
   "cell_type": "code",
   "execution_count": null,
   "id": "3c086b74",
   "metadata": {},
   "outputs": [],
   "source": []
  }
 ],
 "metadata": {
  "interpreter": {
   "hash": "e1ddeae6eefc765c17da80d38ea59b893ab18c0c0904077a035ef84cfe367f83"
  },
  "kernelspec": {
   "display_name": "Python",
   "language": "python",
   "name": "python3"
  },
  "language_info": {
   "codemirror_mode": {
    "name": "ipython",
    "version": 3
   },
   "file_extension": ".py",
   "mimetype": "text/x-python",
   "name": "python",
   "nbconvert_exporter": "python",
   "pygments_lexer": "ipython3",
   "version": "3.8.11"
  }
 },
 "nbformat": 4,
 "nbformat_minor": 5
}