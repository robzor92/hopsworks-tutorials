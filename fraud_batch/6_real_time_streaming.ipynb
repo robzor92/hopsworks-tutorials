{
 "cells": [
  {
   "cell_type": "markdown",
   "metadata": {},
   "source": [
    "---\n",
    "title: \"2. Generate credit card transactions data and send to kafka topic\"\n",
    "date: 2021-04-25\n",
    "type: technical_note\n",
    "draft: false\n",
    "---"
   ]
  },
  {
   "cell_type": "markdown",
   "metadata": {
    "button": false,
    "new_sheet": false,
    "run_control": {
     "read_only": false
    }
   },
   "source": [
    "# Generate credit card transactions data and send to kafka topic."
   ]
  },
  {
   "cell_type": "markdown",
   "metadata": {
    "button": false,
    "new_sheet": false,
    "run_control": {
     "read_only": false
    }
   },
   "source": [
    "### Inspiration of this example was taken from [here](https://github.com/aws-samples/amazon-sagemaker-feature-store-streaming-aggregation)."
   ]
  },
  {
   "cell_type": "markdown",
   "metadata": {
    "button": false,
    "new_sheet": false,
    "run_control": {
     "read_only": false
    }
   },
   "source": [
    "#### Prerequisites "
   ]
  },
  {
   "cell_type": "code",
   "execution_count": 1,
   "metadata": {
    "button": false,
    "new_sheet": false,
    "run_control": {
     "read_only": false
    }
   },
   "outputs": [],
   "source": [
    "#!pip install Faker"
   ]
  },
  {
   "cell_type": "markdown",
   "metadata": {
    "button": false,
    "new_sheet": false,
    "run_control": {
     "read_only": false
    }
   },
   "source": [
    "#### Imports "
   ]
  },
  {
   "cell_type": "code",
   "execution_count": 61,
   "metadata": {
    "button": false,
    "new_sheet": false,
    "run_control": {
     "read_only": false
    }
   },
   "outputs": [],
   "source": [
    "import os\n",
    "import bisect\n",
    "import datetime\n",
    "import hashlib\n",
    "import math\n",
    "import random\n",
    "\n",
    "from collections import defaultdict\n",
    "from typing import Optional, Union, Any, Dict, List, TypeVar, Tuple\n",
    "\n",
    "import pandas as pd\n",
    "import numpy as np\n",
    "\n",
    "from faker import Faker"
   ]
  },
  {
   "cell_type": "code",
   "execution_count": 62,
   "metadata": {
    "button": false,
    "new_sheet": false,
    "run_control": {
     "read_only": false
    }
   },
   "outputs": [],
   "source": [
    "# Seed for Reproducibility\n",
    "faker = Faker()\n",
    "faker.seed_locale('en_US', 0)"
   ]
  },
  {
   "cell_type": "code",
   "execution_count": 63,
   "metadata": {
    "button": false,
    "new_sheet": false,
    "run_control": {
     "read_only": false
    }
   },
   "outputs": [],
   "source": [
    "SEED = 12345\n",
    "random.seed(SEED)\n",
    "np.random.seed(SEED)\n",
    "faker.seed_instance(SEED)"
   ]
  },
  {
   "cell_type": "markdown",
   "metadata": {},
   "source": [
    "#### Constants "
   ]
  },
  {
   "cell_type": "code",
   "execution_count": 64,
   "metadata": {},
   "outputs": [],
   "source": [
    "TOTAL_UNIQUE_USERS = 2000\n",
    "TOTAL_UNIQUE_TRANSACTIONS = 54000\n",
    "CASH_WITHRAWAL_CARDS_TOTAL = 2000 \n",
    "TOTAL_UNIQUE_CASH_WITHDRAWALS = 54000 \n",
    "ATM_WITHRAWAL_SEQ_LENGTH = [3, 4, 5, 6, 7, 8, 9, 10]\n",
    "NORMAL_ATM_RADIUS = 0.01\n",
    "START_DATE = '2022-01-01 00:00:00'\n",
    "END_DATE = '2022-03-01 00:00:00'\n",
    "DATE_FORMAT = '%Y-%m-%d %H:%M:%S'\n",
    "\n",
    "AMOUNT_DISTRIBUTION_PERCENTAGES = {\n",
    "                                   0.05: (0.01, 1.01), \n",
    "                                   0.075: (1, 11.01),\n",
    "                                   0.525: (10, 100.01),\n",
    "                                   0.25: (100, 1000.01),\n",
    "                                   0.099: (1000, 10000.01),\n",
    "                                   0.001: (10000, 30000.01)\n",
    "                                  }\n",
    "\n",
    "CATEGORY_PERC_PRICE = {\n",
    "                       \"Grocery\":              (0.5, 0.01, 100), \n",
    "                       \"Restaurant/Cafeteria\": (0.2, 1, 100),\n",
    "                       \"Health/Beauty\":        (0.1, 10, 500.01),\n",
    "                       \"Domestic Transport\":   (0.1, 10, 100.01),\n",
    "                       \"Clothing\":             (0.05, 10, 2000.01),\n",
    "                       \"Electronics\":          (0.02, 100, 10000.01),\n",
    "                       \"Sports/Outdoors\":      (0.015, 10, 100.01),\n",
    "                       \"Holliday/Travel\":      (0.014, 10, 100.01),              \n",
    "                       \"Jewelery\":             (0.001, 10, 100.01)\n",
    "                       }\n",
    "\n",
    "FRAUD_RATIO = 0.02 # percentage of transactions that are fraudulent\n",
    "NUMBER_OF_FRAUDULENT_TRANSACTIONS = int(FRAUD_RATIO * TOTAL_UNIQUE_TRANSACTIONS)\n",
    "ATTACK_CHAIN_LENGTHS = [3, 4, 5, 6, 7, 8, 9, 10]"
   ]
  },
  {
   "cell_type": "markdown",
   "metadata": {
    "button": false,
    "new_sheet": false,
    "run_control": {
     "read_only": false
    }
   },
   "source": [
    "### Generate Transactions"
   ]
  },
  {
   "cell_type": "markdown",
   "metadata": {
    "button": false,
    "new_sheet": false,
    "run_control": {
     "read_only": false
    }
   },
   "source": [
    "#### Generate Unique Credit Card Numbers \n",
    "<p> Credit card numbers are uniquely assigned to users. Since, there are 10K users, we would want to generate 10K unique card numbers.</p>"
   ]
  },
  {
   "cell_type": "code",
   "execution_count": 65,
   "metadata": {
    "button": false,
    "new_sheet": false,
    "run_control": {
     "read_only": false
    }
   },
   "outputs": [],
   "source": [
    "def generate_unique_credit_card_numbers(n: int) -> list:\n",
    "    cc_ids = set()\n",
    "    for _ in range(n):\n",
    "        cc_id = faker.credit_card_number(card_type='visa')\n",
    "        cc_ids.add(cc_id)\n",
    "    return list(cc_ids) "
   ]
  },
  {
   "cell_type": "code",
   "execution_count": 66,
   "metadata": {
    "button": false,
    "new_sheet": false,
    "run_control": {
     "read_only": false
    }
   },
   "outputs": [],
   "source": [
    "credit_card_numbers = generate_unique_credit_card_numbers(TOTAL_UNIQUE_USERS)"
   ]
  },
  {
   "cell_type": "code",
   "execution_count": 67,
   "metadata": {
    "button": false,
    "new_sheet": false,
    "run_control": {
     "read_only": false
    }
   },
   "outputs": [],
   "source": [
    "assert len(credit_card_numbers) == TOTAL_UNIQUE_USERS \n",
    "assert len(credit_card_numbers[0]) == 16 # validate if generated number is 16-digit"
   ]
  },
  {
   "cell_type": "code",
   "execution_count": 68,
   "metadata": {
    "button": false,
    "new_sheet": false,
    "run_control": {
     "read_only": false
    }
   },
   "outputs": [
    {
     "data": {
      "text/plain": [
       "['4913642076996526',\n",
       " '4148299918528368',\n",
       " '4002894877268355',\n",
       " '4351659675456339',\n",
       " '4208821021263067']"
      ]
     },
     "execution_count": 68,
     "metadata": {},
     "output_type": "execute_result"
    }
   ],
   "source": [
    "# inspect random sample of credit card numbers \n",
    "random.sample(credit_card_numbers, 5)"
   ]
  },
  {
   "cell_type": "markdown",
   "metadata": {},
   "source": [
    "# Generate credit card numbers"
   ]
  },
  {
   "cell_type": "code",
   "execution_count": 69,
   "metadata": {},
   "outputs": [],
   "source": [
    "delta_time_object = datetime.datetime.strptime(START_DATE, DATE_FORMAT)\n",
    "delta_time_object + datetime.timedelta(days=-728)\n",
    "\n",
    "credit_cards = []\n",
    "for cc_num in credit_card_numbers:\n",
    "    credit_cards.append({'cc_num': cc_num, 'provider': 'visa', 'expires': faker.credit_card_expire(start=delta_time_object, end=\"+5y\", date_format=\"%m/%y\")})"
   ]
  },
  {
   "cell_type": "code",
   "execution_count": 70,
   "metadata": {},
   "outputs": [
    {
     "data": {
      "text/html": [
       "<div>\n",
       "<style scoped>\n",
       "    .dataframe tbody tr th:only-of-type {\n",
       "        vertical-align: middle;\n",
       "    }\n",
       "\n",
       "    .dataframe tbody tr th {\n",
       "        vertical-align: top;\n",
       "    }\n",
       "\n",
       "    .dataframe thead th {\n",
       "        text-align: right;\n",
       "    }\n",
       "</style>\n",
       "<table border=\"1\" class=\"dataframe\">\n",
       "  <thead>\n",
       "    <tr style=\"text-align: right;\">\n",
       "      <th></th>\n",
       "      <th>cc_num</th>\n",
       "      <th>provider</th>\n",
       "      <th>expires</th>\n",
       "    </tr>\n",
       "  </thead>\n",
       "  <tbody>\n",
       "    <tr>\n",
       "      <th>0</th>\n",
       "      <td>4796807885357879</td>\n",
       "      <td>visa</td>\n",
       "      <td>05/23</td>\n",
       "    </tr>\n",
       "    <tr>\n",
       "      <th>1</th>\n",
       "      <td>4529266636192966</td>\n",
       "      <td>visa</td>\n",
       "      <td>03/22</td>\n",
       "    </tr>\n",
       "    <tr>\n",
       "      <th>2</th>\n",
       "      <td>4922690008243953</td>\n",
       "      <td>visa</td>\n",
       "      <td>02/27</td>\n",
       "    </tr>\n",
       "    <tr>\n",
       "      <th>3</th>\n",
       "      <td>4897369589533543</td>\n",
       "      <td>visa</td>\n",
       "      <td>04/22</td>\n",
       "    </tr>\n",
       "    <tr>\n",
       "      <th>4</th>\n",
       "      <td>4848518335893425</td>\n",
       "      <td>visa</td>\n",
       "      <td>10/26</td>\n",
       "    </tr>\n",
       "  </tbody>\n",
       "</table>\n",
       "</div>"
      ],
      "text/plain": [
       "             cc_num provider expires\n",
       "0  4796807885357879     visa   05/23\n",
       "1  4529266636192966     visa   03/22\n",
       "2  4922690008243953     visa   02/27\n",
       "3  4897369589533543     visa   04/22\n",
       "4  4848518335893425     visa   10/26"
      ]
     },
     "execution_count": 70,
     "metadata": {},
     "output_type": "execute_result"
    }
   ],
   "source": [
    "credit_cards_pdf = pd.DataFrame.from_records(credit_cards)\n",
    "credit_cards_pdf.head()"
   ]
  },
  {
   "cell_type": "markdown",
   "metadata": {},
   "source": [
    "# Generate user identity "
   ]
  },
  {
   "cell_type": "code",
   "execution_count": 71,
   "metadata": {},
   "outputs": [],
   "source": [
    "profiles = []\n",
    "for credit_card in credit_cards:\n",
    "    address = faker.local_latlng(country_code = 'US')\n",
    "    age = 0 \n",
    "    profile = None\n",
    "    while age < 18 or age > 100:\n",
    "        profile = faker.profile(fields=['name', 'sex', 'mail', 'birthdate'])\n",
    "        dday = profile['birthdate']\n",
    "        delta = datetime.datetime.now() - datetime.datetime(dday.year, dday.month, dday.day)\n",
    "        age = int(delta.days / 365)\n",
    "    if age >= 18 or age <= 100:\n",
    "        profile['City'] = address[2]\n",
    "        profile['Country'] = address[3]\n",
    "        profile['cc_num'] = credit_card['cc_num']\n",
    "        profile['age'] = age\n",
    "        credit_card['age'] = age\n",
    "        profiles.append(profile)"
   ]
  },
  {
   "cell_type": "code",
   "execution_count": 72,
   "metadata": {},
   "outputs": [
    {
     "data": {
      "text/html": [
       "<div>\n",
       "<style scoped>\n",
       "    .dataframe tbody tr th:only-of-type {\n",
       "        vertical-align: middle;\n",
       "    }\n",
       "\n",
       "    .dataframe tbody tr th {\n",
       "        vertical-align: top;\n",
       "    }\n",
       "\n",
       "    .dataframe thead th {\n",
       "        text-align: right;\n",
       "    }\n",
       "</style>\n",
       "<table border=\"1\" class=\"dataframe\">\n",
       "  <thead>\n",
       "    <tr style=\"text-align: right;\">\n",
       "      <th></th>\n",
       "      <th>name</th>\n",
       "      <th>sex</th>\n",
       "      <th>mail</th>\n",
       "      <th>birthdate</th>\n",
       "      <th>City</th>\n",
       "      <th>Country</th>\n",
       "      <th>cc_num</th>\n",
       "    </tr>\n",
       "  </thead>\n",
       "  <tbody>\n",
       "    <tr>\n",
       "      <th>0</th>\n",
       "      <td>Tonya Gregory</td>\n",
       "      <td>F</td>\n",
       "      <td>sandratorres@hotmail.com</td>\n",
       "      <td>1976-01-16</td>\n",
       "      <td>Far Rockaway</td>\n",
       "      <td>US</td>\n",
       "      <td>4796807885357879</td>\n",
       "    </tr>\n",
       "    <tr>\n",
       "      <th>1</th>\n",
       "      <td>Lisa Gilbert</td>\n",
       "      <td>F</td>\n",
       "      <td>michael53@yahoo.com</td>\n",
       "      <td>1986-09-30</td>\n",
       "      <td>Encinitas</td>\n",
       "      <td>US</td>\n",
       "      <td>4529266636192966</td>\n",
       "    </tr>\n",
       "    <tr>\n",
       "      <th>2</th>\n",
       "      <td>Carolyn Meyer</td>\n",
       "      <td>F</td>\n",
       "      <td>anthony47@yahoo.com</td>\n",
       "      <td>2001-07-13</td>\n",
       "      <td>Canton</td>\n",
       "      <td>US</td>\n",
       "      <td>4922690008243953</td>\n",
       "    </tr>\n",
       "    <tr>\n",
       "      <th>3</th>\n",
       "      <td>Sara Morris</td>\n",
       "      <td>F</td>\n",
       "      <td>amylloyd@yahoo.com</td>\n",
       "      <td>1938-06-23</td>\n",
       "      <td>Greenpoint</td>\n",
       "      <td>US</td>\n",
       "      <td>4897369589533543</td>\n",
       "    </tr>\n",
       "    <tr>\n",
       "      <th>4</th>\n",
       "      <td>Paul Ashley</td>\n",
       "      <td>M</td>\n",
       "      <td>matthew97@hotmail.com</td>\n",
       "      <td>1974-12-06</td>\n",
       "      <td>Rutland</td>\n",
       "      <td>US</td>\n",
       "      <td>4848518335893425</td>\n",
       "    </tr>\n",
       "  </tbody>\n",
       "</table>\n",
       "</div>"
      ],
      "text/plain": [
       "            name sex                      mail   birthdate          City  \\\n",
       "0  Tonya Gregory   F  sandratorres@hotmail.com  1976-01-16  Far Rockaway   \n",
       "1   Lisa Gilbert   F       michael53@yahoo.com  1986-09-30     Encinitas   \n",
       "2  Carolyn Meyer   F       anthony47@yahoo.com  2001-07-13        Canton   \n",
       "3    Sara Morris   F        amylloyd@yahoo.com  1938-06-23    Greenpoint   \n",
       "4    Paul Ashley   M     matthew97@hotmail.com  1974-12-06       Rutland   \n",
       "\n",
       "  Country            cc_num  \n",
       "0      US  4796807885357879  \n",
       "1      US  4529266636192966  \n",
       "2      US  4922690008243953  \n",
       "3      US  4897369589533543  \n",
       "4      US  4848518335893425  "
      ]
     },
     "execution_count": 72,
     "metadata": {},
     "output_type": "execute_result"
    }
   ],
   "source": [
    "profiles_pdf = pd.DataFrame.from_records(profiles)\n",
    "profiles_pdf.drop('age', axis=1, inplace=True)\n",
    "profiles_pdf.head()"
   ]
  },
  {
   "cell_type": "markdown",
   "metadata": {
    "button": false,
    "new_sheet": false,
    "run_control": {
     "read_only": false
    }
   },
   "source": [
    "#### Generate Time Series\n"
   ]
  },
  {
   "cell_type": "code",
   "execution_count": 73,
   "metadata": {
    "button": false,
    "new_sheet": false,
    "run_control": {
     "read_only": false
    }
   },
   "outputs": [],
   "source": [
    "def generate_timestamps(n: int) -> list:\n",
    "    start = datetime.datetime.strptime(START_DATE, DATE_FORMAT)\n",
    "    end = datetime.datetime.strptime(END_DATE, DATE_FORMAT)\n",
    "    timestamps = list()\n",
    "    for _ in range(n):\n",
    "        timestamp = faker.date_time_between(start_date=start, end_date=end, tzinfo=None).strftime(DATE_FORMAT)\n",
    "        timestamps.append(timestamp)\n",
    "    timestamps = sorted(timestamps)\n",
    "    return timestamps"
   ]
  },
  {
   "cell_type": "code",
   "execution_count": 74,
   "metadata": {
    "button": false,
    "new_sheet": false,
    "run_control": {
     "read_only": false
    }
   },
   "outputs": [],
   "source": [
    "timestamps = generate_timestamps(TOTAL_UNIQUE_TRANSACTIONS)"
   ]
  },
  {
   "cell_type": "code",
   "execution_count": 75,
   "metadata": {
    "button": false,
    "new_sheet": false,
    "run_control": {
     "read_only": false
    }
   },
   "outputs": [],
   "source": [
    "assert len(timestamps) == TOTAL_UNIQUE_TRANSACTIONS"
   ]
  },
  {
   "cell_type": "code",
   "execution_count": 76,
   "metadata": {
    "button": false,
    "new_sheet": false,
    "run_control": {
     "read_only": false
    }
   },
   "outputs": [
    {
     "data": {
      "text/plain": [
       "['2022-02-27 13:51:28',\n",
       " '2022-01-22 12:22:21',\n",
       " '2022-01-27 11:25:06',\n",
       " '2022-01-14 22:11:46',\n",
       " '2022-01-20 11:40:26']"
      ]
     },
     "execution_count": 76,
     "metadata": {},
     "output_type": "execute_result"
    }
   ],
   "source": [
    "# inspect random sample of timestamps\n",
    "random.sample(timestamps, 5)"
   ]
  },
  {
   "cell_type": "markdown",
   "metadata": {
    "button": false,
    "new_sheet": false,
    "run_control": {
     "read_only": false
    }
   },
   "source": [
    "#### Generate Random Transaction Amounts \n",
    "<p>The transaction amounts are presumed to follow Pareto distribution, as it is logical for consumers to make many more smaller purchases than large ones. The break down of the distribution is shown in the table below.</p>\n",
    "\n",
    "\n",
    "| Percentage        | Range (Amount in $)     |\n",
    "| :-------------: | :----------: |\n",
    "|  5\\% | 0.01 to 1    |\n",
    "| 7.5\\%   | 1 to 10 |\n",
    "| 52.5\\%   | 10 to 100 |\n",
    "| 25\\%   | 100 to 1000 |\n",
    "| 10\\%   | 1000 to 10000 |"
   ]
  },
  {
   "cell_type": "code",
   "execution_count": 77,
   "metadata": {
    "button": false,
    "new_sheet": false,
    "run_control": {
     "read_only": false
    }
   },
   "outputs": [],
   "source": [
    "def get_random_transaction_amount(start: float, end: float) -> float:\n",
    "    amt = round(np.random.uniform(start, end), 2)\n",
    "    return amt"
   ]
  },
  {
   "cell_type": "code",
   "execution_count": 78,
   "metadata": {
    "button": false,
    "new_sheet": false,
    "run_control": {
     "read_only": false
    }
   },
   "outputs": [],
   "source": [
    "amounts = []\n",
    "for percentage, span in AMOUNT_DISTRIBUTION_PERCENTAGES.items():\n",
    "    n = int(TOTAL_UNIQUE_TRANSACTIONS * percentage)\n",
    "    start, end = span\n",
    "    for _ in range(n):\n",
    "        amounts.append(get_random_transaction_amount(start, end+1))\n",
    "\n",
    "categories = []        \n",
    "for category, category_perc_price in CATEGORY_PERC_PRICE.items():\n",
    "    percentage, min_price, max_price = category_perc_price\n",
    "    n = int(TOTAL_UNIQUE_TRANSACTIONS * percentage)\n",
    "    for _ in range(n):\n",
    "        min_price_i = bisect.bisect_left(amounts, min_price)\n",
    "        max_price_i = bisect.bisect_right(amounts, max_price, lo=min_price_i)\n",
    "        categories.append({\"category\":category, \"amount\":random.choice(amounts[min_price_i:max_price_i])})\n",
    "        \n",
    "random.shuffle(categories)"
   ]
  },
  {
   "cell_type": "code",
   "execution_count": 79,
   "metadata": {},
   "outputs": [
    {
     "data": {
      "text/plain": [
       "54000"
      ]
     },
     "execution_count": 79,
     "metadata": {},
     "output_type": "execute_result"
    }
   ],
   "source": [
    "len(categories)"
   ]
  },
  {
   "cell_type": "code",
   "execution_count": 80,
   "metadata": {},
   "outputs": [
    {
     "data": {
      "text/plain": [
       "54000"
      ]
     },
     "execution_count": 80,
     "metadata": {},
     "output_type": "execute_result"
    }
   ],
   "source": [
    "len(amounts)"
   ]
  },
  {
   "cell_type": "code",
   "execution_count": 81,
   "metadata": {
    "button": false,
    "new_sheet": false,
    "run_control": {
     "read_only": false
    }
   },
   "outputs": [
    {
     "data": {
      "text/plain": [
       "[{'category': 'Grocery', 'amount': 16.4},\n",
       " {'category': 'Grocery', 'amount': 43.19},\n",
       " {'category': 'Grocery', 'amount': 37.13},\n",
       " {'category': 'Grocery', 'amount': 0.82},\n",
       " {'category': 'Grocery', 'amount': 80.37}]"
      ]
     },
     "execution_count": 81,
     "metadata": {},
     "output_type": "execute_result"
    }
   ],
   "source": [
    "# inspect random sample of transaction amounts\n",
    "random.sample(categories, 5)"
   ]
  },
  {
   "cell_type": "markdown",
   "metadata": {
    "button": false,
    "new_sheet": false,
    "run_control": {
     "read_only": false
    }
   },
   "source": [
    "#### Generate Credit Card Transactions\n",
    "<br>\n",
    "<div style=\"text-align: justify\">\n",
    "Using the random credit card numbers, timestamps and transaction amounts generated in the above steps, \n",
    "we can generate random credit card transactions by combining them. The transaction id for the transaction is the md5\n",
    "hash of the above mentioned entities.\n",
    "</div>"
   ]
  },
  {
   "cell_type": "code",
   "execution_count": 82,
   "metadata": {
    "button": false,
    "new_sheet": false,
    "run_control": {
     "read_only": false
    }
   },
   "outputs": [],
   "source": [
    "def generate_transaction_id(timestamp: str, credit_card_number: str, transaction_amount: float) -> str:\n",
    "    hashable = f'{timestamp}{credit_card_number}{transaction_amount}'\n",
    "    hexdigest = hashlib.md5(hashable.encode('utf-8')).hexdigest()\n",
    "    return hexdigest"
   ]
  },
  {
   "cell_type": "code",
   "execution_count": 83,
   "metadata": {
    "button": false,
    "new_sheet": false,
    "run_control": {
     "read_only": false
    }
   },
   "outputs": [],
   "source": [
    "transactions = []\n",
    "for timestamp, category in zip(timestamps, categories):\n",
    "    credit_card_number = random.choice(credit_card_numbers)\n",
    "    point_of_tr = faker.local_latlng(country_code = 'US')\n",
    "    transaction_id = generate_transaction_id(timestamp, credit_card_number, category['amount'])\n",
    "    transactions.append({\n",
    "                         'tid': transaction_id, \n",
    "                         'datetime': timestamp, \n",
    "                         'cc_num': credit_card_number, \n",
    "                         'category': category['category'], \n",
    "                         'amount': category['amount'],\n",
    "                         'latitude': point_of_tr[0], \n",
    "                         'longitude': point_of_tr[1],\n",
    "                         'city': point_of_tr[2],\n",
    "                         'country': point_of_tr[3],\n",
    "                         'fraud_label': 0\n",
    "                        }\n",
    "                       )"
   ]
  },
  {
   "cell_type": "code",
   "execution_count": 84,
   "metadata": {
    "button": false,
    "new_sheet": false,
    "run_control": {
     "read_only": false
    }
   },
   "outputs": [
    {
     "data": {
      "text/plain": [
       "[{'tid': '99883edc4d8aaa94b94b159865829379',\n",
       "  'datetime': '2022-01-29 02:38:15',\n",
       "  'cc_num': '4929411498746287',\n",
       "  'category': 'Restaurant/Cafeteria',\n",
       "  'amount': 53.95,\n",
       "  'latitude': '44.99012',\n",
       "  'longitude': '-123.02621',\n",
       "  'city': 'Keizer',\n",
       "  'country': 'US',\n",
       "  'fraud_label': 0}]"
      ]
     },
     "execution_count": 84,
     "metadata": {},
     "output_type": "execute_result"
    }
   ],
   "source": [
    "# inspect random sample of credit card transactions\n",
    "random.sample(transactions, 1)"
   ]
  },
  {
   "cell_type": "markdown",
   "metadata": {
    "button": false,
    "new_sheet": false,
    "run_control": {
     "read_only": false
    }
   },
   "source": [
    "#### Create Transaction Chains "
   ]
  },
  {
   "cell_type": "code",
   "execution_count": 85,
   "metadata": {
    "button": false,
    "new_sheet": false,
    "run_control": {
     "read_only": false
    }
   },
   "outputs": [],
   "source": [
    "visited = set()\n",
    "chains = defaultdict(list)"
   ]
  },
  {
   "cell_type": "code",
   "execution_count": 86,
   "metadata": {
    "button": false,
    "new_sheet": false,
    "run_control": {
     "read_only": false
    }
   },
   "outputs": [],
   "source": [
    "def size(chains: dict) -> int:\n",
    "    counts = {key: len(values)+1 for (key, values) in chains.items()}\n",
    "    return sum(counts.values())"
   ]
  },
  {
   "cell_type": "code",
   "execution_count": 87,
   "metadata": {
    "button": false,
    "new_sheet": false,
    "run_control": {
     "read_only": false
    }
   },
   "outputs": [],
   "source": [
    "def create_attack_chain(i: int):\n",
    "    chain_length = random.choice(ATTACK_CHAIN_LENGTHS)\n",
    "    for j in range(1, chain_length):\n",
    "        if i+j not in visited:\n",
    "            if size(chains) == NUMBER_OF_FRAUDULENT_TRANSACTIONS:\n",
    "                break\n",
    "            chains[i].append(i+j)\n",
    "            visited.add(i+j)"
   ]
  },
  {
   "cell_type": "code",
   "execution_count": 88,
   "metadata": {
    "button": false,
    "new_sheet": false,
    "run_control": {
     "read_only": false
    }
   },
   "outputs": [],
   "source": [
    "while size(chains) < NUMBER_OF_FRAUDULENT_TRANSACTIONS:\n",
    "    i = random.choice(range(TOTAL_UNIQUE_TRANSACTIONS))\n",
    "    if i not in visited:\n",
    "        create_attack_chain(i)\n",
    "        visited.add(i)"
   ]
  },
  {
   "cell_type": "markdown",
   "metadata": {},
   "source": [
    "## Create ATM cash withdrawal"
   ]
  },
  {
   "cell_type": "code",
   "execution_count": 89,
   "metadata": {},
   "outputs": [],
   "source": [
    "cash_amounts = []\n",
    "for percentage, span in AMOUNT_DISTRIBUTION_PERCENTAGES.items():\n",
    "    n = int(TOTAL_UNIQUE_CASH_WITHDRAWALS * percentage)\n",
    "    start, end = span\n",
    "    for _ in range(n):\n",
    "        cash_amounts.append(get_random_transaction_amount(start, end+1))"
   ]
  },
  {
   "cell_type": "code",
   "execution_count": 90,
   "metadata": {},
   "outputs": [
    {
     "data": {
      "text/plain": [
       "54000"
      ]
     },
     "execution_count": 90,
     "metadata": {},
     "output_type": "execute_result"
    }
   ],
   "source": [
    "len(cash_amounts)"
   ]
  },
  {
   "cell_type": "code",
   "execution_count": 91,
   "metadata": {},
   "outputs": [],
   "source": [
    "def generate_atm_withdrawal(credit_card_number: str, cash_amounts: list, length: int, delta: int, radius: float = None, country_code = 'US') -> List[Dict]:\n",
    "    atms = [] \n",
    "    start = datetime.datetime.strptime(START_DATE, DATE_FORMAT)\n",
    "    end = datetime.datetime.strptime(END_DATE, DATE_FORMAT)\n",
    "    timestamp = faker.date_time_between(start_date=start, end_date=end, tzinfo=None)\n",
    "    point_of_tr = faker.local_latlng(country_code = country_code)\n",
    "    latitude = point_of_tr[0] \n",
    "    longitude = point_of_tr[1]\n",
    "    city = point_of_tr[2]\n",
    "    for _ in range(length):\n",
    "        current = timestamp + datetime.timedelta(hours=delta)\n",
    "        if radius is not None:\n",
    "            latitude = faker.coordinate(latitude, radius) \n",
    "            longitude = faker.coordinate(longitude, radius)  \n",
    "        transaction_id = generate_transaction_id(timestamp, credit_card_number, category['amount'])\n",
    "        atms.append({'tid': transaction_id, \n",
    "                     'datetime': current.strftime(DATE_FORMAT), \n",
    "                     'cc_num': credit_card_number, \n",
    "                     'category': 'Cash Withdrawal', \n",
    "                     'amount': random.sample(cash_amounts, 1)[0],\n",
    "                     'latitude': latitude, \n",
    "                     'longitude': longitude,\n",
    "                     'city': city,\n",
    "                     'country': 'US',\n",
    "                     'fraud_label': 0\n",
    "                     })\n",
    "        timestamp = current\n",
    "    return atms"
   ]
  },
  {
   "cell_type": "code",
   "execution_count": 92,
   "metadata": {},
   "outputs": [],
   "source": [
    "SUSCEPTIBLE_CARDS_DISTRIBUTION_BY_AGE = {\n",
    "                                   0.055: (17, 24), \n",
    "                                   0.0015: (24, 34),\n",
    "                                   0.0015: (34, 44),\n",
    "                                   0.02: (44, 54),\n",
    "                                   0.022: (54, 64),\n",
    "                                   0.1: (64, 74),\n",
    "                                   0.40: (74, 84),\n",
    "                                   0.40: (84, 100),\n",
    "                                  }\n",
    "susseptible_cards = []\n",
    "visited = []\n",
    "for percentage, span in SUSCEPTIBLE_CARDS_DISTRIBUTION_BY_AGE.items():\n",
    "    n = int(TOTAL_UNIQUE_CASH_WITHDRAWALS * percentage) ## TODO: here total expected fraud \n",
    "    start, end = span\n",
    "    for _ in range(n):\n",
    "        for card in credit_cards:\n",
    "            if card['age'] > start and card['age'] < end:\n",
    "                if card['cc_num'] not in visited:\n",
    "                    current = card\n",
    "                    visited.append(card['cc_num'])\n",
    "                    break\n",
    "                else:\n",
    "                    current = None                    \n",
    "        if current is not None:\n",
    "            susseptible_cards.append(current)"
   ]
  },
  {
   "cell_type": "code",
   "execution_count": 93,
   "metadata": {},
   "outputs": [],
   "source": [
    "normal_atm_withdrawals = []\n",
    "atm_transactions = len(cash_amounts)\n",
    "cash_withdrawal_cards = random.sample(susseptible_cards, CASH_WITHRAWAL_CARDS_TOTAL//(CASH_WITHRAWAL_CARDS_TOTAL//len(susseptible_cards)+1))\n",
    "atm_count = 0\n",
    "while atm_count < atm_transactions:\n",
    "    for card in cash_withdrawal_cards:\n",
    "        for ATM_WITHRAWAL_SEQ in ATM_WITHRAWAL_SEQ_LENGTH: \n",
    "            # interval in hours between normal cash withdrawals\n",
    "            delta = random.randint(6, 168)\n",
    "            atm_tr = generate_atm_withdrawal(credit_card_number = card['cc_num'], cash_amounts = cash_amounts, length=ATM_WITHRAWAL_SEQ, delta=delta, radius = NORMAL_ATM_RADIUS)         \n",
    "            normal_atm_withdrawals.append(atm_tr)\n",
    "            atm_count += 1"
   ]
  },
  {
   "cell_type": "code",
   "execution_count": 94,
   "metadata": {},
   "outputs": [
    {
     "data": {
      "text/plain": [
       "54000"
      ]
     },
     "execution_count": 94,
     "metadata": {},
     "output_type": "execute_result"
    }
   ],
   "source": [
    "len(cash_amounts)"
   ]
  },
  {
   "cell_type": "code",
   "execution_count": 95,
   "metadata": {},
   "outputs": [
    {
     "data": {
      "text/plain": [
       "56000"
      ]
     },
     "execution_count": 95,
     "metadata": {},
     "output_type": "execute_result"
    }
   ],
   "source": [
    "len(normal_atm_withdrawals)"
   ]
  },
  {
   "cell_type": "markdown",
   "metadata": {
    "button": false,
    "new_sheet": false,
    "run_control": {
     "read_only": false
    }
   },
   "source": [
    "#### Modify Transactions with Fraud Chain Attacks "
   ]
  },
  {
   "cell_type": "code",
   "execution_count": 96,
   "metadata": {
    "button": false,
    "new_sheet": false,
    "run_control": {
     "read_only": false
    }
   },
   "outputs": [],
   "source": [
    "def generate_timestamps_for_fraud_attacks(timestamp: str, chain_length: int) -> list:\n",
    "    timestamps = []\n",
    "    timestamp = datetime.datetime.strptime(timestamp, DATE_FORMAT)\n",
    "    for _ in range(chain_length):\n",
    "        # interval in seconds between fraudulent attacks\n",
    "        delta = random.randint(30, 120)\n",
    "        current = timestamp + datetime.timedelta(seconds=delta)\n",
    "        timestamps.append(current.strftime(DATE_FORMAT))\n",
    "        timestamp = current\n",
    "    return timestamps "
   ]
  },
  {
   "cell_type": "code",
   "execution_count": 97,
   "metadata": {
    "button": false,
    "new_sheet": false,
    "run_control": {
     "read_only": false
    }
   },
   "outputs": [],
   "source": [
    "def generate_amounts_for_fraud_attacks(chain_length: int) -> list:\n",
    "    amounts = []\n",
    "    for percentage, span in AMOUNT_DISTRIBUTION_PERCENTAGES.items():\n",
    "        n = math.ceil(chain_length * percentage)\n",
    "        start, end = span\n",
    "        for _ in range(n):\n",
    "            amounts.append(get_random_transaction_amount(start, end+1))\n",
    "    return amounts[:chain_length]"
   ]
  },
  {
   "cell_type": "code",
   "execution_count": 98,
   "metadata": {
    "button": false,
    "new_sheet": false,
    "run_control": {
     "read_only": false
    }
   },
   "outputs": [],
   "source": [
    "for key, chain in chains.items():\n",
    "    transaction = transactions[key]\n",
    "    timestamp = transaction['datetime']\n",
    "    cc_num = transaction['cc_num']\n",
    "    amount = transaction['amount']\n",
    "    transaction['fraud_label'] = 1\n",
    "    inject_timestamps = generate_timestamps_for_fraud_attacks(timestamp, len(chain))\n",
    "    inject_amounts = generate_amounts_for_fraud_attacks(len(chain))\n",
    "    random.shuffle(inject_amounts)\n",
    "    for i, idx in enumerate(chain):\n",
    "        original_transaction = transactions[idx]\n",
    "        inject_timestamp = inject_timestamps[i]\n",
    "        original_transaction['datetime'] = inject_timestamp\n",
    "        original_transaction['fraud_label'] = 1\n",
    "        original_transaction['cc_num'] = cc_num\n",
    "        original_transaction['amount'] = inject_amounts[i]\n",
    "        original_transaction['category'] = [category for category, category_perc_price in CATEGORY_PERC_PRICE.items() if int(inject_amounts[i]) in range(int(category_perc_price[1]), int(category_perc_price[2]))][0]\n",
    "        original_transaction['tid'] = generate_transaction_id(inject_timestamp, cc_num, amount)\n",
    "        transactions[idx] = original_transaction"
   ]
  },
  {
   "cell_type": "markdown",
   "metadata": {},
   "source": [
    "#### Modify ATM normal cash withdrawals with fraudulent ones"
   ]
  },
  {
   "cell_type": "code",
   "execution_count": 99,
   "metadata": {},
   "outputs": [],
   "source": [
    "fraudulent_atm_tr_indxs = random.sample([i for i in range(0, len(normal_atm_withdrawals))], int(FRAUD_RATIO * len(normal_atm_withdrawals)))"
   ]
  },
  {
   "cell_type": "code",
   "execution_count": 100,
   "metadata": {},
   "outputs": [
    {
     "data": {
      "text/plain": [
       "0.02"
      ]
     },
     "execution_count": 100,
     "metadata": {},
     "output_type": "execute_result"
    }
   ],
   "source": [
    "FRAUD_RATIO"
   ]
  },
  {
   "cell_type": "code",
   "execution_count": 101,
   "metadata": {},
   "outputs": [
    {
     "data": {
      "text/plain": [
       "[{'tid': 'ada19b194d8b93d502f16309c7275e36',\n",
       "  'datetime': '2022-02-20 05:14:58',\n",
       "  'cc_num': '4148855537936983',\n",
       "  'category': 'Cash Withdrawal',\n",
       "  'amount': 2845.89,\n",
       "  'latitude': Decimal('27.107439'),\n",
       "  'longitude': Decimal('-82.462260'),\n",
       "  'city': 'Venice',\n",
       "  'country': 'US',\n",
       "  'fraud_label': 0},\n",
       " {'tid': '69b38c908b93b58b78250f4d66e8a9ec',\n",
       "  'datetime': '2022-02-20 17:14:58',\n",
       "  'cc_num': '4148855537936983',\n",
       "  'category': 'Cash Withdrawal',\n",
       "  'amount': 268.28,\n",
       "  'latitude': Decimal('27.105581'),\n",
       "  'longitude': Decimal('-82.454755'),\n",
       "  'city': 'Venice',\n",
       "  'country': 'US',\n",
       "  'fraud_label': 0},\n",
       " {'tid': '7406892d42247a0f849098c711787144',\n",
       "  'datetime': '2022-02-21 05:14:58',\n",
       "  'cc_num': '4148855537936983',\n",
       "  'category': 'Cash Withdrawal',\n",
       "  'amount': 36.63,\n",
       "  'latitude': Decimal('27.102719'),\n",
       "  'longitude': Decimal('-82.448723'),\n",
       "  'city': 'Venice',\n",
       "  'country': 'US',\n",
       "  'fraud_label': 0}]"
      ]
     },
     "execution_count": 101,
     "metadata": {},
     "output_type": "execute_result"
    }
   ],
   "source": [
    "normal_atm_withdrawals[0]"
   ]
  },
  {
   "cell_type": "code",
   "execution_count": 102,
   "metadata": {},
   "outputs": [],
   "source": [
    "for fraudulent_atm_tr_indx in fraudulent_atm_tr_indxs:\n",
    "    # interval in seconds between fraudulent attacks\n",
    "    delta = random.randint(1, 5)\n",
    "    atm_withdrawal = normal_atm_withdrawals[fraudulent_atm_tr_indx]\n",
    "    pre_fraudulent_atm_tr = atm_withdrawal[0]\n",
    "    fraudulent_atm_tr = generate_atm_withdrawal(credit_card_number = pre_fraudulent_atm_tr['cc_num'], cash_amounts = cash_amounts, length=1, delta=delta, radius = None)[0]\n",
    "    fraudulent_atm_location = faker.location_on_land()\n",
    "    while fraudulent_atm_location[3] == 'US':\n",
    "        fraudulent_atm_location = faker.location_on_land()\n",
    "    fraudulent_atm_tr['datetime'] = (datetime.datetime.strptime(pre_fraudulent_atm_tr['datetime'], DATE_FORMAT) + datetime.timedelta(hours=delta)).strftime(DATE_FORMAT)\n",
    "    fraudulent_atm_tr['latitude'] = fraudulent_atm_location[0]\n",
    "    fraudulent_atm_tr['longitude'] = fraudulent_atm_location[1]\n",
    "    fraudulent_atm_tr['city'] = fraudulent_atm_location[2]\n",
    "    fraudulent_atm_tr['country'] = fraudulent_atm_location[3]  \n",
    "    fraudulent_atm_tr['fraud_label'] = 1 \n",
    "    atm_withdrawal.append(fraudulent_atm_tr)\n",
    "    normal_atm_withdrawals[fraudulent_atm_tr_indx] = atm_withdrawal"
   ]
  },
  {
   "cell_type": "code",
   "execution_count": 103,
   "metadata": {},
   "outputs": [],
   "source": [
    "for atm_withdrawal in normal_atm_withdrawals:\n",
    "    for withdrawal in atm_withdrawal:\n",
    "        transactions.append(withdrawal)  "
   ]
  },
  {
   "cell_type": "code",
   "execution_count": 104,
   "metadata": {},
   "outputs": [],
   "source": [
    "import pandas as pd\n",
    "from hops import hdfs\n",
    "from hops import pandas_helper as pandas\n",
    "                                            \n",
    "transactions_pdf = pd.DataFrame.from_records(transactions)\n",
    "transactions_pdf.head()\n",
    "\n",
    "pandas.write_csv(hdfs.project_path() + \"/Resources/transactions.csv\", transactions_pdf, index=False)\n",
    "pandas.write_csv(hdfs.project_path() + \"/Resources/profiles.csv\", profiles_pdf, index=False)\n",
    "pandas.write_csv(hdfs.project_path() + \"/Resources/credit_cards.csv\", credit_cards_pdf, index=False)"
   ]
  },
  {
   "cell_type": "code",
   "execution_count": 105,
   "metadata": {},
   "outputs": [
    {
     "data": {
      "text/html": [
       "<div>\n",
       "<style scoped>\n",
       "    .dataframe tbody tr th:only-of-type {\n",
       "        vertical-align: middle;\n",
       "    }\n",
       "\n",
       "    .dataframe tbody tr th {\n",
       "        vertical-align: top;\n",
       "    }\n",
       "\n",
       "    .dataframe thead th {\n",
       "        text-align: right;\n",
       "    }\n",
       "</style>\n",
       "<table border=\"1\" class=\"dataframe\">\n",
       "  <thead>\n",
       "    <tr style=\"text-align: right;\">\n",
       "      <th></th>\n",
       "      <th>amount</th>\n",
       "      <th>fraud_label</th>\n",
       "    </tr>\n",
       "  </thead>\n",
       "  <tbody>\n",
       "    <tr>\n",
       "      <th>count</th>\n",
       "      <td>1120.000000</td>\n",
       "      <td>1120.0</td>\n",
       "    </tr>\n",
       "    <tr>\n",
       "      <th>mean</th>\n",
       "      <td>629.876857</td>\n",
       "      <td>1.0</td>\n",
       "    </tr>\n",
       "    <tr>\n",
       "      <th>std</th>\n",
       "      <td>1716.529094</td>\n",
       "      <td>0.0</td>\n",
       "    </tr>\n",
       "    <tr>\n",
       "      <th>min</th>\n",
       "      <td>0.070000</td>\n",
       "      <td>1.0</td>\n",
       "    </tr>\n",
       "    <tr>\n",
       "      <th>25%</th>\n",
       "      <td>33.557500</td>\n",
       "      <td>1.0</td>\n",
       "    </tr>\n",
       "    <tr>\n",
       "      <th>50%</th>\n",
       "      <td>74.155000</td>\n",
       "      <td>1.0</td>\n",
       "    </tr>\n",
       "    <tr>\n",
       "      <th>75%</th>\n",
       "      <td>385.125000</td>\n",
       "      <td>1.0</td>\n",
       "    </tr>\n",
       "    <tr>\n",
       "      <th>max</th>\n",
       "      <td>21790.660000</td>\n",
       "      <td>1.0</td>\n",
       "    </tr>\n",
       "  </tbody>\n",
       "</table>\n",
       "</div>"
      ],
      "text/plain": [
       "             amount  fraud_label\n",
       "count   1120.000000       1120.0\n",
       "mean     629.876857          1.0\n",
       "std     1716.529094          0.0\n",
       "min        0.070000          1.0\n",
       "25%       33.557500          1.0\n",
       "50%       74.155000          1.0\n",
       "75%      385.125000          1.0\n",
       "max    21790.660000          1.0"
      ]
     },
     "execution_count": 105,
     "metadata": {},
     "output_type": "execute_result"
    }
   ],
   "source": [
    "transactions_pdf[(transactions_pdf.category == \"Cash Withdrawal\") & (transactions_pdf.fraud_label==1)].describe()"
   ]
  },
  {
   "cell_type": "markdown",
   "metadata": {},
   "source": [
    "### Produce transactions "
   ]
  },
  {
   "cell_type": "code",
   "execution_count": 42,
   "metadata": {},
   "outputs": [],
   "source": [
    "from hops import kafka\n",
    "from hops import tls\n",
    "from hops import hdfs\n",
    "import json\n",
    "from confluent_kafka import Producer"
   ]
  },
  {
   "cell_type": "markdown",
   "metadata": {},
   "source": [
    "## TODO (davit): gif how to create kafka topic from the UI"
   ]
  },
  {
   "cell_type": "code",
   "execution_count": 43,
   "metadata": {},
   "outputs": [],
   "source": [
    "# change this according to your settings\n",
    "KAFKA_BROKER_ADDRES = \"broker.kafka.service.consul:9091\"\n",
    "KAFKA_TOPIC_NAME = \"credit_card_transactions\""
   ]
  },
  {
   "cell_type": "code",
   "execution_count": 44,
   "metadata": {},
   "outputs": [],
   "source": [
    "config = {\n",
    "    \"bootstrap.servers\": KAFKA_BROKER_ADDRES,\n",
    "    \"security.protocol\": kafka.get_security_protocol(),\n",
    "    \"ssl.ca.location\": tls.get_ca_chain_location(),\n",
    "    \"ssl.certificate.location\": tls.get_client_certificate_location(),\n",
    "    \"ssl.key.location\": tls.get_client_key_location(),\n",
    "    \"group.id\": \"1\"\n",
    "}\n",
    "\n",
    "producer = Producer(config)"
   ]
  },
  {
   "cell_type": "code",
   "execution_count": null,
   "metadata": {},
   "outputs": [
    {
     "name": "stdout",
     "output_type": "stream",
     "text": [
      "{\"tid\": \"11df919988c134d97bbff2678eb68e22\", \"datetime\": \"2022-01-01 00:00:24\", \"cc_num\": \"4473593503484549\", \"category\": \"Health/Beauty\", \"amount\": 62.95, \"latitude\": \"38.70734\", \"longitude\": \"-77.02303\", \"city\": \"Fort Washington\", \"country\": \"US\"}\n"
     ]
    },
    {
     "name": "stderr",
     "output_type": "stream",
     "text": [
      "<ipython-input-45-5dc0991d36c3>:7: DeprecationWarning: PY_SSIZE_T_CLEAN will be required for '#' formats\n",
      "  producer.produce(KAFKA_TOPIC_NAME, json.dumps(transaction))\n"
     ]
    },
    {
     "name": "stdout",
     "output_type": "stream",
     "text": [
      "{\"tid\": \"c5191d37308c9624b460e94c6fe81b73\", \"datetime\": \"2022-01-02 02:21:04\", \"cc_num\": \"4336399961348201\", \"category\": \"Health/Beauty\", \"amount\": 90.86, \"latitude\": \"41.8542\", \"longitude\": \"-87.66561\", \"city\": \"Lower West Side\", \"country\": \"US\"}\n",
      "{\"tid\": \"46f65698afa66f9eb1c1cee4fb16b59e\", \"datetime\": \"2022-01-03 04:51:37\", \"cc_num\": \"4219785543443381\", \"category\": \"Health/Beauty\", \"amount\": 17.25, \"latitude\": \"42.35843\", \"longitude\": \"-71.05977\", \"city\": \"Boston\", \"country\": \"US\"}\n",
      "{\"tid\": \"c447dc4ebdd3e91a1e641983c2aa28e6\", \"datetime\": \"2022-01-04 07:11:58\", \"cc_num\": \"4089569454422049\", \"category\": \"Electronics\", \"amount\": 620.79, \"latitude\": \"47.76232\", \"longitude\": \"-122.2054\", \"city\": \"Bothell\", \"country\": \"US\"}\n",
      "{\"tid\": \"27531978f0de94249478ebda69db9dad\", \"datetime\": \"2022-01-05 08:25:33\", \"cc_num\": \"4826919959712584\", \"category\": \"Grocery\", \"amount\": 13.94, \"latitude\": \"44.27804\", \"longitude\": \"-88.27205\", \"city\": \"Kaukauna\", \"country\": \"US\"}\n",
      "{\"tid\": \"8f8a668392ac92f8fe3855e94dc1cbcb\", \"datetime\": \"2022-01-06 10:07:22\", \"cc_num\": \"4056556887456123\", \"category\": \"Domestic Transport\", \"amount\": 54.25, \"latitude\": \"26.68451\", \"longitude\": \"-80.66756\", \"city\": \"Belle Glade\", \"country\": \"US\"}\n",
      "{\"tid\": \"8a5368bbe51fd899cd1219ed8bb5ee64\", \"datetime\": \"2022-01-07 13:12:54\", \"cc_num\": \"4149919657740556\", \"category\": \"Grocery\", \"amount\": 93.67, \"latitude\": \"35.88264\", \"longitude\": \"-80.08199\", \"city\": \"Thomasville\", \"country\": \"US\"}\n",
      "{\"tid\": \"588c4693d0e121388af46972587bd0d0\", \"datetime\": \"2022-01-08 15:02:53\", \"cc_num\": \"4928737432664066\", \"category\": \"Electronics\", \"amount\": 7719.49, \"latitude\": \"40.72816\", \"longitude\": \"-74.07764\", \"city\": \"Jersey City\", \"country\": \"US\"}\n",
      "{\"tid\": \"d13ba125413b09e711082c34e8e32c9c\", \"datetime\": \"2022-01-09 17:19:47\", \"cc_num\": \"4148299918528368\", \"category\": \"Health/Beauty\", \"amount\": 63.77, \"latitude\": \"39.72943\", \"longitude\": \"-104.83192\", \"city\": \"Aurora\", \"country\": \"US\"}\n",
      "{\"tid\": \"f5228454f6b7d9873a91b349acddbe89\", \"datetime\": \"2022-01-10 19:06:57\", \"cc_num\": \"4387069901220731\", \"category\": \"Health/Beauty\", \"amount\": 462.55, \"latitude\": \"41.55838\", \"longitude\": \"-81.56929\", \"city\": \"Collinwood\", \"country\": \"US\"}\n",
      "{\"tid\": \"7552928ebbf95fb2f854c1150f3a3bd9\", \"datetime\": \"2022-01-11 21:53:05\", \"cc_num\": \"4128818208635148\", \"category\": \"Domestic Transport\", \"amount\": 92.03, \"latitude\": \"25.67927\", \"longitude\": \"-80.31727\", \"city\": \"Kendall\", \"country\": \"US\"}\n",
      "{\"tid\": \"5dd5ca87721ce1c56b7efd5a32169bb4\", \"datetime\": \"2022-01-13 01:24:27\", \"cc_num\": \"4088284352412552\", \"category\": \"Electronics\", \"amount\": 3901.53, \"latitude\": \"45.53929\", \"longitude\": \"-122.38731\", \"city\": \"Troutdale\", \"country\": \"US\"}\n",
      "{\"tid\": \"7d5ef76daec58c438d0271414c27261a\", \"datetime\": \"2022-01-14 04:21:07\", \"cc_num\": \"4734534259756925\", \"category\": \"Grocery\", \"amount\": 26.75, \"latitude\": \"39.43534\", \"longitude\": \"-84.20299\", \"city\": \"Lebanon\", \"country\": \"US\"}\n",
      "{\"tid\": \"c73a4560c95176e5a7b8a4711a06f0eb\", \"datetime\": \"2022-01-15 06:31:46\", \"cc_num\": \"4989258607013779\", \"category\": \"Restaurant/Cafeteria\", \"amount\": 13.8, \"latitude\": \"41.27621\", \"longitude\": \"-72.86843\", \"city\": \"East Haven\", \"country\": \"US\"}\n",
      "{\"tid\": \"4769ca936cb64f680fdae6866925f1aa\", \"datetime\": \"2022-01-16 10:06:33\", \"cc_num\": \"4214331812017609\", \"category\": \"Grocery\", \"amount\": 85.55, \"latitude\": \"30.5427\", \"longitude\": \"-97.54667\", \"city\": \"Hutto\", \"country\": \"US\"}\n",
      "{\"tid\": \"0ff98e1b5e27d1bca64c9d32f9f37fd2\", \"datetime\": \"2022-01-17 12:17:05\", \"cc_num\": \"4062262509023464\", \"category\": \"Grocery\", \"amount\": 5.83, \"latitude\": \"32.42067\", \"longitude\": \"-104.22884\", \"city\": \"Carlsbad\", \"country\": \"US\"}\n",
      "{\"tid\": \"5334ad06174a47d96cda74cc3a43722f\", \"datetime\": \"2022-01-18 15:29:32\", \"cc_num\": \"4862486694523044\", \"category\": \"Grocery\", \"amount\": 26.54, \"latitude\": \"40.65538\", \"longitude\": \"-74.38987\", \"city\": \"Scotch Plains\", \"country\": \"US\"}\n",
      "{\"tid\": \"b6237ab79fc1835824a7d5a50bbf4f35\", \"datetime\": \"2022-01-19 17:37:16\", \"cc_num\": \"4772103066529538\", \"category\": \"Clothing\", \"amount\": 99.16, \"latitude\": \"40.56754\", \"longitude\": \"-89.64066\", \"city\": \"Pekin\", \"country\": \"US\"}\n"
     ]
    }
   ],
   "source": [
    "i = 0\n",
    "for transaction in transactions:\n",
    "    transaction_label = {}\n",
    "    _ = transaction.pop(\"fraud_label\")\n",
    "    if i % 1000 == 0:\n",
    "        print(json.dumps(transaction))\n",
    "    producer.produce(KAFKA_TOPIC_NAME, json.dumps(transaction))\n",
    "    producer.flush()    \n",
    "    i += 1"
   ]
  },
  {
   "cell_type": "markdown",
   "metadata": {},
   "source": [
    "### Next Steps\n",
    "\n",
    "In the next notebook, we'll look at how to do streaming aggregations using Spark structured streaming."
   ]
  }
 ],
 "metadata": {
  "kernelspec": {
   "display_name": "Python",
   "language": "python",
   "name": "python3"
  },
  "language_info": {
   "codemirror_mode": {
    "name": "ipython",
    "version": 3
   },
   "file_extension": ".py",
   "mimetype": "text/x-python",
   "name": "python",
   "nbconvert_exporter": "python",
   "pygments_lexer": "ipython3",
   "version": "3.8.11"
  }
 },
 "nbformat": 4,
 "nbformat_minor": 4
}